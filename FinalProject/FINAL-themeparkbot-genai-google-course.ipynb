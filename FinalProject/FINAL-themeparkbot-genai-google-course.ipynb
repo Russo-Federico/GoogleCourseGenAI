{
 "cells": [
  {
   "cell_type": "markdown",
   "id": "7d099a98",
   "metadata": {
    "papermill": {
     "duration": 0.006761,
     "end_time": "2025-04-14T14:03:17.000985",
     "exception": false,
     "start_time": "2025-04-14T14:03:16.994224",
     "status": "completed"
    },
    "tags": []
   },
   "source": [
    "# ThemeParkBot\n",
    "\n",
    "This ThemeParkBot is designed to help the management and creative decisions about the theme park, suggesting which type of attractions are most popular, which attractions are a net loss and should be replaced and so on..."
   ]
  },
  {
   "cell_type": "markdown",
   "id": "038844b4",
   "metadata": {
    "papermill": {
     "duration": 0.005439,
     "end_time": "2025-04-14T14:03:17.013174",
     "exception": false,
     "start_time": "2025-04-14T14:03:17.007735",
     "status": "completed"
    },
    "tags": []
   },
   "source": [
    "### Install SDK"
   ]
  },
  {
   "cell_type": "code",
   "execution_count": 1,
   "id": "8491fe1a",
   "metadata": {
    "execution": {
     "iopub.execute_input": "2025-04-14T14:03:17.026203Z",
     "iopub.status.busy": "2025-04-14T14:03:17.025694Z",
     "iopub.status.idle": "2025-04-14T14:03:48.552141Z",
     "shell.execute_reply": "2025-04-14T14:03:48.551072Z"
    },
    "papermill": {
     "duration": 31.535253,
     "end_time": "2025-04-14T14:03:48.554029",
     "exception": false,
     "start_time": "2025-04-14T14:03:17.018776",
     "status": "completed"
    },
    "tags": []
   },
   "outputs": [
    {
     "name": "stdout",
     "output_type": "stream",
     "text": [
      "\u001b[33mWARNING: Skipping kfp as it is not installed.\u001b[0m\u001b[33m\r\n",
      "\u001b[2K     \u001b[90m━━━━━━━━━━━━━━━━━━━━━━━━━━━━━━━━━━━━━━━━\u001b[0m \u001b[32m43.5/43.5 kB\u001b[0m \u001b[31m1.9 MB/s\u001b[0m eta \u001b[36m0:00:00\u001b[0m\r\n",
      "\u001b[2K   \u001b[90m━━━━━━━━━━━━━━━━━━━━━━━━━━━━━━━━━━━━━━━━\u001b[0m \u001b[32m144.7/144.7 kB\u001b[0m \u001b[31m4.6 MB/s\u001b[0m eta \u001b[36m0:00:00\u001b[0m\r\n",
      "\u001b[2K   \u001b[90m━━━━━━━━━━━━━━━━━━━━━━━━━━━━━━━━━━━━━━━━\u001b[0m \u001b[32m138.0/138.0 kB\u001b[0m \u001b[31m7.2 MB/s\u001b[0m eta \u001b[36m0:00:00\u001b[0m\r\n",
      "\u001b[2K   \u001b[90m━━━━━━━━━━━━━━━━━━━━━━━━━━━━━━━━━━━━━━━━\u001b[0m \u001b[32m42.0/42.0 kB\u001b[0m \u001b[31m2.1 MB/s\u001b[0m eta \u001b[36m0:00:00\u001b[0m\r\n",
      "\u001b[2K   \u001b[90m━━━━━━━━━━━━━━━━━━━━━━━━━━━━━━━━━━━━━━━━\u001b[0m \u001b[32m100.9/100.9 kB\u001b[0m \u001b[31m4.1 MB/s\u001b[0m eta \u001b[36m0:00:00\u001b[0m\r\n",
      "\u001b[2K   \u001b[90m━━━━━━━━━━━━━━━━━━━━━━━━━━━━━━━━━━━━━━━━\u001b[0m \u001b[32m1.4/1.4 MB\u001b[0m \u001b[31m26.6 MB/s\u001b[0m eta \u001b[36m0:00:00\u001b[0m\r\n",
      "\u001b[2K   \u001b[90m━━━━━━━━━━━━━━━━━━━━━━━━━━━━━━━━━━━━━━━━\u001b[0m \u001b[32m423.3/423.3 kB\u001b[0m \u001b[31m20.4 MB/s\u001b[0m eta \u001b[36m0:00:00\u001b[0m\r\n",
      "\u001b[2K   \u001b[90m━━━━━━━━━━━━━━━━━━━━━━━━━━━━━━━━━━━━━━━━\u001b[0m \u001b[32m42.0/42.0 kB\u001b[0m \u001b[31m1.7 MB/s\u001b[0m eta \u001b[36m0:00:00\u001b[0m\r\n",
      "\u001b[2K   \u001b[90m━━━━━━━━━━━━━━━━━━━━━━━━━━━━━━━━━━━━━━━━\u001b[0m \u001b[32m47.2/47.2 kB\u001b[0m \u001b[31m1.9 MB/s\u001b[0m eta \u001b[36m0:00:00\u001b[0m\r\n",
      "\u001b[2K   \u001b[90m━━━━━━━━━━━━━━━━━━━━━━━━━━━━━━━━━━━━━━━━\u001b[0m \u001b[32m223.6/223.6 kB\u001b[0m \u001b[31m9.9 MB/s\u001b[0m eta \u001b[36m0:00:00\u001b[0m\r\n",
      "\u001b[?25h\u001b[31mERROR: pip's dependency resolver does not currently take into account all the packages that are installed. This behaviour is the source of the following dependency conflicts.\r\n",
      "langchain 0.3.12 requires async-timeout<5.0.0,>=4.0.0; python_version < \"3.11\", but you have async-timeout 5.0.1 which is incompatible.\u001b[0m\u001b[31m\r\n",
      "\u001b[0m"
     ]
    }
   ],
   "source": [
    "# Remove conflicting packages from the Kaggle base environment.\n",
    "!pip uninstall -qqy kfp jupyterlab libpysal thinc spacy fastai ydata-profiling google-cloud-bigquery google-generativeai\n",
    "# Install langgraph and the packages used in this lab.\n",
    "!pip install -qU 'google-genai==1.7.0' 'langgraph==0.3.21' 'langchain-google-genai==2.1.2' 'langgraph-prebuilt==0.1.7' 'graphviz'"
   ]
  },
  {
   "cell_type": "code",
   "execution_count": 2,
   "id": "6d45f81c",
   "metadata": {
    "execution": {
     "iopub.execute_input": "2025-04-14T14:03:48.568892Z",
     "iopub.status.busy": "2025-04-14T14:03:48.568487Z",
     "iopub.status.idle": "2025-04-14T14:03:51.227151Z",
     "shell.execute_reply": "2025-04-14T14:03:51.225991Z"
    },
    "papermill": {
     "duration": 2.668255,
     "end_time": "2025-04-14T14:03:51.229158",
     "exception": false,
     "start_time": "2025-04-14T14:03:48.560903",
     "status": "completed"
    },
    "tags": []
   },
   "outputs": [
    {
     "data": {
      "text/plain": [
       "'1.7.0'"
      ]
     },
     "execution_count": 2,
     "metadata": {},
     "output_type": "execute_result"
    }
   ],
   "source": [
    "#import section\n",
    "from google import genai\n",
    "from google.genai import types\n",
    "from google.api_core import retry\n",
    "from IPython.display import HTML, Markdown, display, Image\n",
    "from typing import Annotated, Literal\n",
    "from typing_extensions import TypedDict\n",
    "from langgraph.graph import StateGraph, START, END\n",
    "from langgraph.graph.message import add_messages\n",
    "from langgraph.prebuilt import ToolNode\n",
    "from langchain_google_genai import ChatGoogleGenerativeAI\n",
    "from langchain_core.messages import SystemMessage, HumanMessage, AIMessage\n",
    "from langchain_core.tools import tool\n",
    "\n",
    "\n",
    "\n",
    "import sqlite3\n",
    "import os\n",
    "import google.api_core.exceptions\n",
    "\n",
    "genai.__version__"
   ]
  },
  {
   "cell_type": "code",
   "execution_count": 3,
   "id": "46bf1c04",
   "metadata": {
    "execution": {
     "iopub.execute_input": "2025-04-14T14:03:51.244013Z",
     "iopub.status.busy": "2025-04-14T14:03:51.243488Z",
     "iopub.status.idle": "2025-04-14T14:03:51.803459Z",
     "shell.execute_reply": "2025-04-14T14:03:51.802488Z"
    },
    "papermill": {
     "duration": 0.569441,
     "end_time": "2025-04-14T14:03:51.805385",
     "exception": false,
     "start_time": "2025-04-14T14:03:51.235944",
     "status": "completed"
    },
    "tags": []
   },
   "outputs": [],
   "source": [
    "from kaggle_secrets import UserSecretsClient\n",
    "\n",
    "GOOGLE_API_KEY = UserSecretsClient().get_secret(\"GOOGLE_API_KEY\")\n",
    "client = genai.Client(api_key=GOOGLE_API_KEY)"
   ]
  },
  {
   "cell_type": "markdown",
   "id": "f68677cc",
   "metadata": {
    "papermill": {
     "duration": 0.006608,
     "end_time": "2025-04-14T14:03:51.818955",
     "exception": false,
     "start_time": "2025-04-14T14:03:51.812347",
     "status": "completed"
    },
    "tags": []
   },
   "source": [
    "Setting environmental variable to enable the chatobot llm capabilities"
   ]
  },
  {
   "cell_type": "code",
   "execution_count": 4,
   "id": "99ac596e",
   "metadata": {
    "execution": {
     "iopub.execute_input": "2025-04-14T14:03:51.833895Z",
     "iopub.status.busy": "2025-04-14T14:03:51.833488Z",
     "iopub.status.idle": "2025-04-14T14:03:51.837678Z",
     "shell.execute_reply": "2025-04-14T14:03:51.836700Z"
    },
    "papermill": {
     "duration": 0.01361,
     "end_time": "2025-04-14T14:03:51.839419",
     "exception": false,
     "start_time": "2025-04-14T14:03:51.825809",
     "status": "completed"
    },
    "tags": []
   },
   "outputs": [],
   "source": [
    "os.environ[\"GOOGLE_API_KEY\"] = GOOGLE_API_KEY"
   ]
  },
  {
   "cell_type": "markdown",
   "id": "9792122f",
   "metadata": {
    "papermill": {
     "duration": 0.006579,
     "end_time": "2025-04-14T14:03:51.852953",
     "exception": false,
     "start_time": "2025-04-14T14:03:51.846374",
     "status": "completed"
    },
    "tags": []
   },
   "source": [
    "**Automated** flag:\n",
    "* Set it set to **True** if you want to automatically run the notebook\n",
    "* Set it to **False** if you want to manually enter the questions for the AI agent"
   ]
  },
  {
   "cell_type": "code",
   "execution_count": 5,
   "id": "bb1d735c",
   "metadata": {
    "execution": {
     "iopub.execute_input": "2025-04-14T14:03:51.867491Z",
     "iopub.status.busy": "2025-04-14T14:03:51.867101Z",
     "iopub.status.idle": "2025-04-14T14:03:51.871146Z",
     "shell.execute_reply": "2025-04-14T14:03:51.870093Z"
    },
    "papermill": {
     "duration": 0.01324,
     "end_time": "2025-04-14T14:03:51.872814",
     "exception": false,
     "start_time": "2025-04-14T14:03:51.859574",
     "status": "completed"
    },
    "tags": []
   },
   "outputs": [],
   "source": [
    "AUTOMATED = True"
   ]
  },
  {
   "cell_type": "code",
   "execution_count": 6,
   "id": "85a71572",
   "metadata": {
    "execution": {
     "iopub.execute_input": "2025-04-14T14:03:51.888015Z",
     "iopub.status.busy": "2025-04-14T14:03:51.887575Z",
     "iopub.status.idle": "2025-04-14T14:03:51.892729Z",
     "shell.execute_reply": "2025-04-14T14:03:51.891576Z"
    },
    "papermill": {
     "duration": 0.014624,
     "end_time": "2025-04-14T14:03:51.894548",
     "exception": false,
     "start_time": "2025-04-14T14:03:51.879924",
     "status": "completed"
    },
    "tags": []
   },
   "outputs": [],
   "source": [
    "# Define a retry policy. The model might make multiple consecutive calls automatically\n",
    "# for a complex query, this ensures the client retries if it hits quota limits.\n",
    "is_retriable = lambda e: (isinstance(e, genai.errors.APIError) and e.code in {429, 503})\n",
    "\n",
    "if not hasattr(genai.models.Models.generate_content, '__wrapped__'):\n",
    "  genai.models.Models.generate_content = retry.Retry(\n",
    "      predicate=is_retriable)(genai.models.Models.generate_content)"
   ]
  },
  {
   "cell_type": "markdown",
   "id": "9cd5b2c0",
   "metadata": {
    "papermill": {
     "duration": 0.006529,
     "end_time": "2025-04-14T14:03:51.907918",
     "exception": false,
     "start_time": "2025-04-14T14:03:51.901389",
     "status": "completed"
    },
    "tags": []
   },
   "source": [
    "## Database definition\n",
    "Using _IPython magic commands_ to creare and populare a sqlite database"
   ]
  },
  {
   "cell_type": "code",
   "execution_count": 7,
   "id": "d756423b",
   "metadata": {
    "execution": {
     "iopub.execute_input": "2025-04-14T14:03:51.922385Z",
     "iopub.status.busy": "2025-04-14T14:03:51.921977Z",
     "iopub.status.idle": "2025-04-14T14:03:53.494896Z",
     "shell.execute_reply": "2025-04-14T14:03:53.493763Z"
    },
    "papermill": {
     "duration": 1.582464,
     "end_time": "2025-04-14T14:03:53.496964",
     "exception": false,
     "start_time": "2025-04-14T14:03:51.914500",
     "status": "completed"
    },
    "tags": []
   },
   "outputs": [],
   "source": [
    "%load_ext sql\n",
    "%sql sqlite:///ThemePark.db"
   ]
  },
  {
   "cell_type": "markdown",
   "id": "44c57c20",
   "metadata": {
    "papermill": {
     "duration": 0.006354,
     "end_time": "2025-04-14T14:03:53.510540",
     "exception": false,
     "start_time": "2025-04-14T14:03:53.504186",
     "status": "completed"
    },
    "tags": []
   },
   "source": [
    "Define and populare tables\n",
    "<br><br>Edit as desired to enable the llm to perform deeper analysis"
   ]
  },
  {
   "cell_type": "code",
   "execution_count": 8,
   "id": "2527d5dc",
   "metadata": {
    "execution": {
     "iopub.execute_input": "2025-04-14T14:03:53.525956Z",
     "iopub.status.busy": "2025-04-14T14:03:53.525320Z",
     "iopub.status.idle": "2025-04-14T14:03:53.798349Z",
     "shell.execute_reply": "2025-04-14T14:03:53.797121Z"
    },
    "papermill": {
     "duration": 0.283629,
     "end_time": "2025-04-14T14:03:53.800831",
     "exception": false,
     "start_time": "2025-04-14T14:03:53.517202",
     "status": "completed"
    },
    "tags": []
   },
   "outputs": [
    {
     "name": "stdout",
     "output_type": "stream",
     "text": [
      " * sqlite:///ThemePark.db\n",
      "Done.\n",
      "Done.\n",
      "Done.\n",
      "Done.\n",
      "3 rows affected.\n",
      "3 rows affected.\n",
      "3 rows affected.\n",
      "9 rows affected.\n"
     ]
    },
    {
     "data": {
      "text/plain": [
       "[]"
      ]
     },
     "execution_count": 8,
     "metadata": {},
     "output_type": "execute_result"
    }
   ],
   "source": [
    "%%sql\n",
    "-- Create the 'Land' table\n",
    "CREATE TABLE IF NOT EXISTS Land (\n",
    "  \tLandId INTEGER PRIMARY KEY AUTOINCREMENT,\n",
    "  \tLandName VARCHAR(255) NOT NULL,\n",
    "  \tLandArea DECIMAL(10, 2) NOT NULL\n",
    "  );\n",
    "\n",
    "-- Create the 'AttractionType' table\n",
    "CREATE TABLE IF NOT EXISTS AttractionType (\n",
    "  \tAttractionTypeId INTEGER PRIMARY KEY AUTOINCREMENT,\n",
    "  \tAttractionType VARCHAR(255) NOT NULL  \t\n",
    "  );\n",
    "\n",
    "-- Create the 'Attraction' table\n",
    "CREATE TABLE IF NOT EXISTS Attraction (\n",
    "  \tAttractionId INTEGER PRIMARY KEY AUTOINCREMENT,\n",
    "  \tAttraction VARCHAR(255) NOT NULL,\n",
    "  \tAttractionTypeId INTEGER NOT NULL,\n",
    "  \tLandId INTEGER NOT NULL,\n",
    "  \tFOREIGN KEY (AttractionTypeId) REFERENCES AttractionType (AttractionTypeId),\n",
    "    FOREIGN KEY (LandId) REFERENCES Land (LandId)\n",
    "  );\n",
    "\n",
    "-- Create the 'AttractionPerYear' table\n",
    "CREATE TABLE IF NOT EXISTS AttractionPerYear (\n",
    "  \tAttractionPerYearId INTEGER PRIMARY KEY AUTOINCREMENT,\n",
    "    AttractionId INTEGER,\n",
    "  \tYear INTEGER NOT NULL,\n",
    "    Revenue DECIMAL(12, 2) NOT NULL,\n",
    "  \tCosts DECIMAL(12, 2) NOT NULL,\n",
    "    Guests INTEGER NOT NULL DEFAULT 0,\n",
    "  \tIsOperational BOOLEAN NOT NULL DEFAULT 1,\n",
    "  \tFOREIGN KEY (AttractionId) REFERENCES Attraction (AttractionId)\n",
    "  );\n",
    "\n",
    "INSERT INTO Land (LandName, LandArea)\n",
    "SELECT * FROM (\n",
    "  SELECT 'Adventure' AS LandName, 12.50 AS LandArea\n",
    "  UNION ALL\n",
    "  SELECT 'Fantasy', 9.75\n",
    "  UNION ALL\n",
    "  SELECT 'Steampunk', 14.30\n",
    ") AS new_lands\n",
    "WHERE NOT EXISTS (\n",
    "  SELECT 1 FROM Land WHERE LandName = new_lands.LandName\n",
    ");\n",
    "\n",
    "-- Insert into AttractionType\n",
    "INSERT INTO AttractionType (AttractionType)\n",
    "SELECT * FROM (\n",
    "  SELECT 'Roller Coaster' AS AttractionType\n",
    "  UNION ALL\n",
    "  SELECT 'Water Ride'\n",
    "  UNION ALL\n",
    "  SELECT 'Dark Ride'\n",
    ") AS new_attraction_types\n",
    "WHERE NOT EXISTS (\n",
    "  SELECT 1 FROM AttractionType WHERE AttractionType = 'Roller Coaster'\n",
    ");\n",
    "\n",
    "-- Insert into Attraction\n",
    "INSERT INTO Attraction (Attraction, AttractionTypeId, LandId)\n",
    "SELECT * FROM (\n",
    "  SELECT 'Ghost House' AS Attraction, 3 AS AttractionTypeId, 2 AS LandId\n",
    "  UNION ALL\n",
    "  SELECT 'Splash Zone', 2, 1\n",
    "  UNION ALL\n",
    "  SELECT 'Space Voyage', 1, 3\n",
    ") AS new_attractions\n",
    "WHERE NOT EXISTS (\n",
    "  SELECT 1 FROM Attraction WHERE Attraction = 'Ghost House'\n",
    ");\n",
    "\n",
    "-- Insert into AttractionPerYear\n",
    "INSERT INTO AttractionPerYear (AttractionId, Year, Revenue, Costs, Guests, IsOperational)\n",
    "SELECT * FROM (\n",
    "  SELECT 1 AS AttractionId, 2024 AS Year, 1200000.00 AS Revenue, 450000.00 AS Costs, 250000 AS Guests, 1 AS IsOperational\n",
    "  UNION ALL\n",
    "  SELECT 2, 2024, 9800.00, 300000.00, 1800, 1\n",
    "  UNION ALL\n",
    "  SELECT 3, 2024, 750000.00, 270000.00, 120000, 1\n",
    "  UNION ALL\n",
    "  SELECT 1, 2023, 120000.00, 450000.00, 250000, 1\n",
    "  UNION ALL\n",
    "  SELECT 2, 2023, 98000.00, 300000.00, 18000, 1\n",
    "  UNION ALL\n",
    "  SELECT 3, 2023, 75000.00, 270000.00, 12000, 1\n",
    "  UNION ALL\n",
    "  SELECT 1, 2022, 12000.00, 450000.00, 25000, 1\n",
    "  UNION ALL\n",
    "  SELECT 2, 2022, 980000.00, 300000.00, 180000, 1\n",
    "  UNION ALL\n",
    "  SELECT 3, 2022, 7500.00, 270000.00, 1200, 1\n",
    ") AS new_attraction_per_year\n",
    "WHERE NOT EXISTS (\n",
    "  SELECT 1 FROM AttractionPerYear WHERE AttractionId = 1 AND Year = 2024\n",
    ");\n",
    "\n"
   ]
  },
  {
   "cell_type": "markdown",
   "id": "98ac735e",
   "metadata": {
    "papermill": {
     "duration": 0.011168,
     "end_time": "2025-04-14T14:03:53.823517",
     "exception": false,
     "start_time": "2025-04-14T14:03:53.812349",
     "status": "completed"
    },
    "tags": []
   },
   "source": [
    "# Database functions"
   ]
  },
  {
   "cell_type": "code",
   "execution_count": 9,
   "id": "eee2137a",
   "metadata": {
    "execution": {
     "iopub.execute_input": "2025-04-14T14:03:53.845584Z",
     "iopub.status.busy": "2025-04-14T14:03:53.845152Z",
     "iopub.status.idle": "2025-04-14T14:03:53.850045Z",
     "shell.execute_reply": "2025-04-14T14:03:53.848981Z"
    },
    "papermill": {
     "duration": 0.016911,
     "end_time": "2025-04-14T14:03:53.851693",
     "exception": false,
     "start_time": "2025-04-14T14:03:53.834782",
     "status": "completed"
    },
    "tags": []
   },
   "outputs": [],
   "source": [
    "db_file = \"ThemePark.db\"\n",
    "db_conn = sqlite3.connect(db_file)"
   ]
  },
  {
   "cell_type": "markdown",
   "id": "8056d9ce",
   "metadata": {
    "papermill": {
     "duration": 0.006786,
     "end_time": "2025-04-14T14:03:53.865586",
     "exception": false,
     "start_time": "2025-04-14T14:03:53.858800",
     "status": "completed"
    },
    "tags": []
   },
   "source": [
    "# AI Agent"
   ]
  },
  {
   "cell_type": "markdown",
   "id": "244c56ea",
   "metadata": {
    "papermill": {
     "duration": 0.006461,
     "end_time": "2025-04-14T14:03:53.878826",
     "exception": false,
     "start_time": "2025-04-14T14:03:53.872365",
     "status": "completed"
    },
    "tags": []
   },
   "source": [
    "Building a new LangGraph graph\n",
    "1. AnalysisState - State object, acts as the shared memory of the graph\n",
    "2. ASSISTANT_SYSINT - Define the system initial prompt, this defines the key behaviour of the chatbot\n",
    "3. Nodes - Define the nodes, functions that take the State as an input and return an updated State as an output\n",
    "4. Edges - Define the edges, they indicate the transition of the State between two nodes\n",
    "5. Conditional Edges - Conditional edges route the State between different routes dinamically\n",
    "6. Tools - Tools are functions callable by the chatbot itself"
   ]
  },
  {
   "cell_type": "code",
   "execution_count": 10,
   "id": "9fa62a10",
   "metadata": {
    "execution": {
     "iopub.execute_input": "2025-04-14T14:03:53.900320Z",
     "iopub.status.busy": "2025-04-14T14:03:53.899877Z",
     "iopub.status.idle": "2025-04-14T14:03:53.907186Z",
     "shell.execute_reply": "2025-04-14T14:03:53.906194Z"
    },
    "papermill": {
     "duration": 0.02289,
     "end_time": "2025-04-14T14:03:53.908805",
     "exception": false,
     "start_time": "2025-04-14T14:03:53.885915",
     "status": "completed"
    },
    "tags": []
   },
   "outputs": [],
   "source": [
    "#create state containing message history and a boolean to flag the end of the conversation \n",
    "class AnalysisState(TypedDict):\n",
    "    \"\"\"State representing the analyst conversation with the chatbot.\"\"\"\n",
    "\n",
    "    # The chat conversation. \n",
    "    # The state is updated by appending returned messages, not replacing them.\n",
    "    messages: Annotated[list, add_messages]\n",
    "\n",
    "    # Flag indicating the chat is concluded.\n",
    "    finished: bool\n",
    "\n",
    "\n",
    "# The system instruction defines how the chatbot is expected to behave and includes rules for when to call different functions, \n",
    "# tone of the conversation and so on\n",
    "ASSISTANT_SYSINT = (\n",
    "    \"system\",\n",
    "    \"You are ThemeParkAssistan, an AI assistant helping data analysts make informed decisions based on a SQLite database from the theme park 'Legendary Galaxy'.\\n\\n\"\n",
    "    \n",
    "    \"**Your behaviour rules:**\\n\"\n",
    "    \"- NEVER assume table or field names. NEVER guess them based on intuition.\\n\"\n",
    "    \"- You MUST use `list_tables()` before referencing any table in a query.\\n\"\n",
    "    \"- Before using any field or column, use `describe_table()` to learn about that table's schema.\\n\"\n",
    "    \"- NEVER mention or ask the user about table names, columns, or SQL directly. If something is missing, troubleshoot using the tools.\\n\"\n",
    "    \"- If you cannot find a table or column, explain what you tried and stop. DO NOT ask the user about it.\\n\"\n",
    "    \"- Think step by step: first list the tables, then explore a table's structure, then run a query if needed.\\n\"\n",
    "    \"- You can also access the web through the 'search_web()' tool when the answer is not available from the database or your own knowledge.\\n\"\n",
    "    \"- **If you're not confident in your own knowledge or the database does not provide sufficient information, search the web immediately**.\\n\"\n",
    "    \"- Web search should be the **first** option if you suspect the information is outside of the database or your training knowledge, **not just a last resort**.\\n\"\n",
    "    \"- If you use the web, **be sure to clarify that the answer came from an online search** and provide a source if possible.\\n\"\n",
    "    \"- When asked about time periods (yesterday, last year, and so on) always go search the web to know what time are they refferring to.\\n\"\n",
    "    \"- Your job is to answer the user's business question clearly and then suggest a useful follow-up.\\n\"\n",
    "    \"- Don't write 'A useful follow-up would be to'—be more subtle in suggesting follow-ups.\"\n",
    ")\n",
    "\n",
    "WELCOME_MSG = \"Welcome from ThemeParkAssistan. Type `quit` to quit. How may I help you?\""
   ]
  },
  {
   "cell_type": "markdown",
   "id": "f7eccd93",
   "metadata": {
    "papermill": {
     "duration": 0.006651,
     "end_time": "2025-04-14T14:03:53.922700",
     "exception": false,
     "start_time": "2025-04-14T14:03:53.916049",
     "status": "completed"
    },
    "tags": []
   },
   "source": [
    "### Tools\n",
    "Tools for DB access"
   ]
  },
  {
   "cell_type": "code",
   "execution_count": 11,
   "id": "f036610a",
   "metadata": {
    "execution": {
     "iopub.execute_input": "2025-04-14T14:03:53.937933Z",
     "iopub.status.busy": "2025-04-14T14:03:53.937517Z",
     "iopub.status.idle": "2025-04-14T14:03:53.956832Z",
     "shell.execute_reply": "2025-04-14T14:03:53.955684Z"
    },
    "papermill": {
     "duration": 0.029048,
     "end_time": "2025-04-14T14:03:53.958625",
     "exception": false,
     "start_time": "2025-04-14T14:03:53.929577",
     "status": "completed"
    },
    "tags": []
   },
   "outputs": [],
   "source": [
    "@tool\n",
    "def query_db(query: str) -> list[list[str]]:\n",
    "    \"\"\"Run a sqlite query and reuturn the results\"\"\"\n",
    "    conn = sqlite3.connect(db_file)\n",
    "    cursor = conn.cursor()\n",
    "    try:\n",
    "        cursor.execute(query)\n",
    "        result = cursor.fetchall()\n",
    "    except Exception as e:\n",
    "        result = f\"Error: {e}\"\n",
    "    finally:\n",
    "        conn.close()\n",
    "        \n",
    "    return result\n",
    "\n",
    "@tool\n",
    "def list_tables() -> list[str]:\n",
    "    \"\"\"Retrieve the names of all tables in the database.\"\"\"\n",
    "    conn = sqlite3.connect(db_file)\n",
    "    cursor = conn.cursor()\n",
    "    try:\n",
    "        cursor.execute(\"SELECT name FROM sqlite_master WHERE type='table';\")\n",
    "        tables = cursor.fetchall()\n",
    "        result = [row[0] for row in tables]\n",
    "    except Exception as e:\n",
    "        result = f\"Error: {e}\"\n",
    "    finally:\n",
    "        conn.close()\n",
    "        \n",
    "    return result\n",
    "\n",
    "@tool\n",
    "def describe_table(table_name: str) -> list[tuple[str, str]]:\n",
    "    \"\"\"Look up the table schema.\n",
    "    Returns:\n",
    "      List of columns, where each entry is a tuple of (column, type).\n",
    "    \"\"\"\n",
    "    conn = sqlite3.connect(db_file)\n",
    "    cursor = conn.cursor()\n",
    "    try:\n",
    "        cursor.execute(f\"PRAGMA table_info({table_name});\")\n",
    "        schema = cursor.fetchall()\n",
    "        result = [(col[1], col[2]) for col in schema]\n",
    "    except Exception as e:\n",
    "        result = f\"Error: {e}\"\n",
    "    finally:\n",
    "        conn.close()\n",
    "        \n",
    "    return result"
   ]
  },
  {
   "cell_type": "markdown",
   "id": "a6c399a9",
   "metadata": {
    "papermill": {
     "duration": 0.006859,
     "end_time": "2025-04-14T14:03:53.972876",
     "exception": false,
     "start_time": "2025-04-14T14:03:53.966017",
     "status": "completed"
    },
    "tags": []
   },
   "source": [
    "Tools for web access"
   ]
  },
  {
   "cell_type": "code",
   "execution_count": 12,
   "id": "0e02760d",
   "metadata": {
    "execution": {
     "iopub.execute_input": "2025-04-14T14:03:53.988020Z",
     "iopub.status.busy": "2025-04-14T14:03:53.987629Z",
     "iopub.status.idle": "2025-04-14T14:03:53.997091Z",
     "shell.execute_reply": "2025-04-14T14:03:53.995972Z"
    },
    "papermill": {
     "duration": 0.018817,
     "end_time": "2025-04-14T14:03:53.998704",
     "exception": false,
     "start_time": "2025-04-14T14:03:53.979887",
     "status": "completed"
    },
    "tags": []
   },
   "outputs": [],
   "source": [
    "# Create the Gemini model with web search grounding\n",
    "search_tool = types.Tool(google_search=types.GoogleSearch())\n",
    "config_with_search = types.GenerateContentConfig(tools=[search_tool])\n",
    "\n",
    "@tool\n",
    "def search_web(query: str) -> str:\n",
    "    \"\"\"Use Gemini's grounded web search to retrieve current information for a query.\"\"\"\n",
    "    try:\n",
    "        response = client.models.generate_content(\n",
    "            model='gemini-2.0-flash',\n",
    "            contents=query,\n",
    "            config=config_with_search,\n",
    "        )\n",
    "        # Extract and return the textual answer\n",
    "        result_text = response.text.strip()\n",
    "        if not result_text:\n",
    "            return \"I searched the web but couldn't find a clear answer to that.\"\n",
    "        return result_text\n",
    "\n",
    "    except google.api_core.exceptions.GoogleAPIError as e:\n",
    "        return f\"Web search failed due to a network or API error: {e}\"\n",
    "\n",
    "    except Exception as e:\n",
    "        return f\"An unexpected error occurred during web search: {e}\""
   ]
  },
  {
   "cell_type": "markdown",
   "id": "e603d2b1",
   "metadata": {
    "papermill": {
     "duration": 0.006784,
     "end_time": "2025-04-14T14:03:54.012618",
     "exception": false,
     "start_time": "2025-04-14T14:03:54.005834",
     "status": "completed"
    },
    "tags": []
   },
   "source": [
    "Define llm, associate tools (db tools and web tools), create node functions and conditional edges"
   ]
  },
  {
   "cell_type": "code",
   "execution_count": 13,
   "id": "2cf15363",
   "metadata": {
    "execution": {
     "iopub.execute_input": "2025-04-14T14:03:54.037335Z",
     "iopub.status.busy": "2025-04-14T14:03:54.036892Z",
     "iopub.status.idle": "2025-04-14T14:03:54.146803Z",
     "shell.execute_reply": "2025-04-14T14:03:54.145739Z"
    },
    "papermill": {
     "duration": 0.125619,
     "end_time": "2025-04-14T14:03:54.149270",
     "exception": false,
     "start_time": "2025-04-14T14:03:54.023651",
     "status": "completed"
    },
    "tags": []
   },
   "outputs": [],
   "source": [
    "#define the node tools to associate to the llm\n",
    "tools = [query_db, list_tables, describe_table]\n",
    "tool_node = ToolNode(tools)\n",
    "\n",
    "web_tools = [search_web]\n",
    "web_tool_node = ToolNode(web_tools)\n",
    "\n",
    "#select the model for the chatbot\n",
    "llm = ChatGoogleGenerativeAI(model=\"gemini-2.0-flash\")\n",
    "llm_w_tools = llm.bind_tools(tools + web_tools)"
   ]
  },
  {
   "cell_type": "markdown",
   "id": "cd0e183a",
   "metadata": {
    "papermill": {
     "duration": 0.011382,
     "end_time": "2025-04-14T14:03:54.173026",
     "exception": false,
     "start_time": "2025-04-14T14:03:54.161644",
     "status": "completed"
    },
    "tags": []
   },
   "source": [
    "To enable automated run on kaggle two different human nodes have been created:\n",
    "* **manual_human_node** - allows direct interaction between chatgpt and user\n",
    "* **automated_human_node** - simulates the chatbot - user interaction with predefined questions"
   ]
  },
  {
   "cell_type": "code",
   "execution_count": 14,
   "id": "26c7882d",
   "metadata": {
    "execution": {
     "iopub.execute_input": "2025-04-14T14:03:54.188500Z",
     "iopub.status.busy": "2025-04-14T14:03:54.188153Z",
     "iopub.status.idle": "2025-04-14T14:03:54.200129Z",
     "shell.execute_reply": "2025-04-14T14:03:54.197946Z"
    },
    "papermill": {
     "duration": 0.022224,
     "end_time": "2025-04-14T14:03:54.202365",
     "exception": false,
     "start_time": "2025-04-14T14:03:54.180141",
     "status": "completed"
    },
    "tags": []
   },
   "outputs": [],
   "source": [
    "automated_inputs = iter([\n",
    "    \"What was the most popular attraction by number of guests in our park last?\",\n",
    "    \"Make a numbered list of all our attractions by profit last year\",\n",
    "    \"Make a numbered Top 10 list of the most popular brands last year from movies, video games and books\",\n",
    "    \"quit\"\n",
    "])\n",
    "\n",
    "#create nodes\n",
    "def manual_human_node(state: AnalysisState) -> AnalysisState:\n",
    "    msg = state[\"messages\"][-1]\n",
    "    if msg.content != WELCOME_MSG:\n",
    "        msg.content = \"<br>\" + msg.content\n",
    "        \n",
    "    display(Markdown(msg.content))\n",
    "\n",
    "    user_input = input(\"> \")\n",
    "\n",
    "    if user_input in {\"q\", \"quit\", \"exit\"}:\n",
    "        state[\"finished\"] = True\n",
    "\n",
    "    return state | {\"messages\": [(\"user\", user_input)]}\n",
    "\n",
    "def automated_human_node(state):\n",
    "    msg = state[\"messages\"][-1]\n",
    "    if msg.content != WELCOME_MSG:\n",
    "        msg.content = \"<br>\" + msg.content\n",
    "        \n",
    "    display(Markdown(msg.content))\n",
    "    \n",
    "    try:\n",
    "        user_input = next(automated_inputs)\n",
    "        print(f\"[AUTOMATED INPUT] {user_input}\")\n",
    "    except StopIteration:\n",
    "        user_input = \"quit\"\n",
    "        state[\"finished\"] = True\n",
    "    return state | {\"messages\": [(\"user\", user_input)]}\n",
    "\n",
    "def chatbot_w_tools(state: AnalysisState) -> AnalysisState:\n",
    "    \"\"\"chatbot node with added tool functionalities\"\"\"\n",
    "    #defaults = {finished: False}\n",
    "\n",
    "    if state[\"messages\"]:\n",
    "        output = llm_w_tools.invoke([ASSISTANT_SYSINT] + state[\"messages\"])\n",
    "    else:\n",
    "        output = AIMessage(content=WELCOME_MSG)\n",
    "\n",
    "    return state | {\"messages\": [output]}\n",
    "\n",
    "#create conditional edge\n",
    "def evaluate_exit(state: AnalysisState) -> Literal[\"chatbot\", \"__end__\"]:\n",
    "    if state.get(\"finished\", False):\n",
    "        return END\n",
    "    else:\n",
    "        return \"chatbot\"\n",
    "    \n",
    "def evaluate_tool_use(state: AnalysisState) -> Literal[\"tools\", \"web\", \"human\"]:\n",
    "    \"\"\"if the llm choose to call a tool function go to tool node, otherwise back to human node\"\"\"\n",
    "    if not (msgs := state.get(\"messages\", [])):\n",
    "        raise ValueError(f\"No messages found when parsing state: {state}\")\n",
    "\n",
    "    msg = msgs[-1]\n",
    "\n",
    "    if hasattr(msg, \"tool_calls\") and len(msg.tool_calls) > 0:\n",
    "        tool_name = msg.tool_calls[0][\"name\"]\n",
    "        if tool_name == \"search_web\":\n",
    "            return \"web\"\n",
    "        else:\n",
    "            return \"tools\"\n",
    "    else:\n",
    "        return \"human\"\n"
   ]
  },
  {
   "cell_type": "markdown",
   "id": "bffb3659",
   "metadata": {
    "papermill": {
     "duration": 0.006661,
     "end_time": "2025-04-14T14:03:54.220369",
     "exception": false,
     "start_time": "2025-04-14T14:03:54.213708",
     "status": "completed"
    },
    "tags": []
   },
   "source": [
    "__Build the graph__ based on State, Nodes, Edges and ConditionalEdges created"
   ]
  },
  {
   "cell_type": "code",
   "execution_count": 15,
   "id": "84cf1453",
   "metadata": {
    "execution": {
     "iopub.execute_input": "2025-04-14T14:03:54.236701Z",
     "iopub.status.busy": "2025-04-14T14:03:54.236329Z",
     "iopub.status.idle": "2025-04-14T14:03:54.249356Z",
     "shell.execute_reply": "2025-04-14T14:03:54.248374Z"
    },
    "papermill": {
     "duration": 0.023713,
     "end_time": "2025-04-14T14:03:54.251011",
     "exception": false,
     "start_time": "2025-04-14T14:03:54.227298",
     "status": "completed"
    },
    "tags": []
   },
   "outputs": [],
   "source": [
    "#Build graph\n",
    "graph_builder = StateGraph(AnalysisState)\n",
    "\n",
    "#create nodes and link them to their function\n",
    "graph_builder.add_node(\"chatbot\", chatbot_w_tools)\n",
    "#graph_builder.add_node(\"human\", human_node)\n",
    "graph_builder.add_node(\"human\", manual_human_node if not AUTOMATED else automated_human_node)\n",
    "graph_builder.add_node(\"tools\", tool_node)\n",
    "graph_builder.add_node(\"web\", web_tool_node)\n",
    "\n",
    "#add conditional edges to chatbot and human nodes\n",
    "graph_builder.add_conditional_edges(\"chatbot\", evaluate_tool_use)\n",
    "graph_builder.add_conditional_edges(\"human\", evaluate_exit)\n",
    "\n",
    "#add fixed edges to nodes\n",
    "graph_builder.add_edge(\"tools\", \"chatbot\")\n",
    "graph_builder.add_edge(\"web\", \"chatbot\")\n",
    "graph_builder.add_edge(START, \"chatbot\")\n",
    "\n",
    "graph_w_tools = graph_builder.compile()"
   ]
  },
  {
   "cell_type": "code",
   "execution_count": 16,
   "id": "81cf7748",
   "metadata": {
    "execution": {
     "iopub.execute_input": "2025-04-14T14:03:54.266346Z",
     "iopub.status.busy": "2025-04-14T14:03:54.265917Z",
     "iopub.status.idle": "2025-04-14T14:03:54.411977Z",
     "shell.execute_reply": "2025-04-14T14:03:54.410740Z"
    },
    "papermill": {
     "duration": 0.155717,
     "end_time": "2025-04-14T14:03:54.413771",
     "exception": false,
     "start_time": "2025-04-14T14:03:54.258054",
     "status": "completed"
    },
    "tags": []
   },
   "outputs": [
    {
     "data": {
      "image/png": "[encoded data removed]",
      "text/plain": [
       "<IPython.core.display.Image object>"
      ]
     },
     "execution_count": 16,
     "metadata": {},
     "output_type": "execute_result"
    }
   ],
   "source": [
    "#visual rapresentation of the graph\n",
    "Image(graph_w_tools.get_graph().draw_mermaid_png())    "
   ]
  },
  {
   "cell_type": "code",
   "execution_count": 17,
   "id": "95ecb03b",
   "metadata": {
    "execution": {
     "iopub.execute_input": "2025-04-14T14:03:54.430259Z",
     "iopub.status.busy": "2025-04-14T14:03:54.429833Z",
     "iopub.status.idle": "2025-04-14T14:04:10.877543Z",
     "shell.execute_reply": "2025-04-14T14:04:10.876413Z"
    },
    "papermill": {
     "duration": 16.458167,
     "end_time": "2025-04-14T14:04:10.879625",
     "exception": false,
     "start_time": "2025-04-14T14:03:54.421458",
     "status": "completed"
    },
    "tags": []
   },
   "outputs": [
    {
     "data": {
      "text/markdown": [
       "Welcome from ThemeParkAssistan. Type `quit` to quit. How may I help you?"
      ],
      "text/plain": [
       "<IPython.core.display.Markdown object>"
      ]
     },
     "metadata": {},
     "output_type": "display_data"
    },
    {
     "name": "stdout",
     "output_type": "stream",
     "text": [
      "[AUTOMATED INPUT] What was the most popular attraction by number of guests in our park last?\n"
     ]
    },
    {
     "data": {
      "text/markdown": [
       "<br>The most popular attraction last year (2024) was Ghost House.\n",
       "\n",
       "You could ask me to compare the popularity of different attractions over multiple years."
      ],
      "text/plain": [
       "<IPython.core.display.Markdown object>"
      ]
     },
     "metadata": {},
     "output_type": "display_data"
    },
    {
     "name": "stdout",
     "output_type": "stream",
     "text": [
      "[AUTOMATED INPUT] Make a numbered list of all our attractions by profit last year\n"
     ]
    },
    {
     "data": {
      "text/markdown": [
       "<br>Here are the attractions ranked by profit for last year (2024):\n",
       "\n",
       "1.  Ghost House: 750000\n",
       "2.  Space Voyage: 480000\n",
       "3.  Splash Zone: -290200\n",
       "\n",
       "Perhaps you would like to explore the reasons behind the varying profitability of these attractions?"
      ],
      "text/plain": [
       "<IPython.core.display.Markdown object>"
      ]
     },
     "metadata": {},
     "output_type": "display_data"
    },
    {
     "name": "stdout",
     "output_type": "stream",
     "text": [
      "[AUTOMATED INPUT] Make a numbered Top 10 list of the most popular brands last year from movies, video games and books\n"
     ]
    },
    {
     "data": {
      "text/markdown": [
       "<br>Okay, based on my web search, here is a list of brands that appear to be highly popular across movies, video games, and books in 2024:\n",
       "\n",
       "1.  Apple\n",
       "2.  Microsoft\n",
       "3.  Sony\n",
       "4.  Walt Disney Studios\n",
       "5.  Universal Pictures\n",
       "6.  Nintendo\n",
       "7.  Tencent\n",
       "8.  Activision Blizzard\n",
       "9.  Electronic Arts (EA)\n",
       "10. Penguin Random House\n",
       "\n",
       "It's important to note that this list is a synthesis of various data points and may not reflect a definitive ranking based on a single metric. \"Popularity\" can be subjective and depend on the specific audience and context. The information is current as of today, April 14, 2025.\n",
       "\n",
       "Would you like me to look into the popularity of brands within our theme park?"
      ],
      "text/plain": [
       "<IPython.core.display.Markdown object>"
      ]
     },
     "metadata": {},
     "output_type": "display_data"
    },
    {
     "name": "stdout",
     "output_type": "stream",
     "text": [
      "[AUTOMATED INPUT] quit\n"
     ]
    },
    {
     "data": {
      "text/markdown": [
       "<br>Thank you for using ThemeParkAssistan. Have a great day!"
      ],
      "text/plain": [
       "<IPython.core.display.Markdown object>"
      ]
     },
     "metadata": {},
     "output_type": "display_data"
    }
   ],
   "source": [
    "#set custom recursion limit to traverse nodes\n",
    "config = {\"recursion_limit\": 50}\n",
    "\n",
    "#run the chatbot\n",
    "state = graph_w_tools.invoke({\"messages\": []}, config)"
   ]
  }
 ],
 "metadata": {
  "kaggle": {
   "accelerator": "none",
   "dataSources": [],
   "dockerImageVersionId": 30918,
   "isGpuEnabled": false,
   "isInternetEnabled": true,
   "language": "python",
   "sourceType": "notebook"
  },
  "kernelspec": {
   "display_name": "Python 3",
   "language": "python",
   "name": "python3"
  },
  "language_info": {
   "codemirror_mode": {
    "name": "ipython",
    "version": 3
   },
   "file_extension": ".py",
   "mimetype": "text/x-python",
   "name": "python",
   "nbconvert_exporter": "python",
   "pygments_lexer": "ipython3",
   "version": "3.10.12"
  },
  "papermill": {
   "default_parameters": {},
   "duration": 58.314838,
   "end_time": "2025-04-14T14:04:11.911521",
   "environment_variables": {},
   "exception": null,
   "input_path": "__notebook__.ipynb",
   "output_path": "__notebook__.ipynb",
   "parameters": {},
   "start_time": "2025-04-14T14:03:13.596683",
   "version": "2.6.0"
  }
 },
 "nbformat": 4,
 "nbformat_minor": 5
}
