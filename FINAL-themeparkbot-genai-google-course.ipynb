{
 "cells": [
  {
   "cell_type": "markdown",
   "id": "d922544d",
   "metadata": {
    "papermill": {
     "duration": 0.005734,
     "end_time": "2025-04-17T14:44:09.985763",
     "exception": false,
     "start_time": "2025-04-17T14:44:09.980029",
     "status": "completed"
    },
    "tags": []
   },
   "source": [
    "# ThemeParkBot\n",
    "\n",
    "This ThemeParkBot is designed to help the management and creative decisions about the theme park, suggesting which type of attractions are most popular, which attractions are a net loss and should be replaced and so on..."
   ]
  },
  {
   "cell_type": "markdown",
   "id": "aaa63d98",
   "metadata": {
    "papermill": {
     "duration": 0.004535,
     "end_time": "2025-04-17T14:44:09.995288",
     "exception": false,
     "start_time": "2025-04-17T14:44:09.990753",
     "status": "completed"
    },
    "tags": []
   },
   "source": [
    "### Install SDK"
   ]
  },
  {
   "cell_type": "code",
   "execution_count": 1,
   "id": "71f885bb",
   "metadata": {
    "execution": {
     "iopub.execute_input": "2025-04-17T14:44:10.006372Z",
     "iopub.status.busy": "2025-04-17T14:44:10.005716Z",
     "iopub.status.idle": "2025-04-17T14:44:49.876199Z",
     "shell.execute_reply": "2025-04-17T14:44:49.875045Z"
    },
    "papermill": {
     "duration": 39.877992,
     "end_time": "2025-04-17T14:44:49.877896",
     "exception": false,
     "start_time": "2025-04-17T14:44:09.999904",
     "status": "completed"
    },
    "tags": []
   },
   "outputs": [
    {
     "name": "stdout",
     "output_type": "stream",
     "text": [
      "\u001b[33mWARNING: Skipping kfp as it is not installed.\u001b[0m\u001b[33m\r\n",
      "\u001b[2K     \u001b[90m━━━━━━━━━━━━━━━━━━━━━━━━━━━━━━━━━━━━━━━━\u001b[0m \u001b[32m43.5/43.5 kB\u001b[0m \u001b[31m2.0 MB/s\u001b[0m eta \u001b[36m0:00:00\u001b[0m\r\n",
      "\u001b[2K   \u001b[90m━━━━━━━━━━━━━━━━━━━━━━━━━━━━━━━━━━━━━━━━\u001b[0m \u001b[32m144.7/144.7 kB\u001b[0m \u001b[31m4.8 MB/s\u001b[0m eta \u001b[36m0:00:00\u001b[0m\r\n",
      "\u001b[2K   \u001b[90m━━━━━━━━━━━━━━━━━━━━━━━━━━━━━━━━━━━━━━━━\u001b[0m \u001b[32m138.0/138.0 kB\u001b[0m \u001b[31m6.4 MB/s\u001b[0m eta \u001b[36m0:00:00\u001b[0m\r\n",
      "\u001b[2K   \u001b[90m━━━━━━━━━━━━━━━━━━━━━━━━━━━━━━━━━━━━━━━━\u001b[0m \u001b[32m42.0/42.0 kB\u001b[0m \u001b[31m1.7 MB/s\u001b[0m eta \u001b[36m0:00:00\u001b[0m\r\n",
      "\u001b[2K   \u001b[90m━━━━━━━━━━━━━━━━━━━━━━━━━━━━━━━━━━━━━━━━\u001b[0m \u001b[32m100.9/100.9 kB\u001b[0m \u001b[31m4.4 MB/s\u001b[0m eta \u001b[36m0:00:00\u001b[0m\r\n",
      "\u001b[2K   \u001b[90m━━━━━━━━━━━━━━━━━━━━━━━━━━━━━━━━━━━━━━━━\u001b[0m \u001b[32m1.4/1.4 MB\u001b[0m \u001b[31m26.0 MB/s\u001b[0m eta \u001b[36m0:00:00\u001b[0m\r\n",
      "\u001b[2K   \u001b[90m━━━━━━━━━━━━━━━━━━━━━━━━━━━━━━━━━━━━━━━━\u001b[0m \u001b[32m433.3/433.3 kB\u001b[0m \u001b[31m21.8 MB/s\u001b[0m eta \u001b[36m0:00:00\u001b[0m\r\n",
      "\u001b[2K   \u001b[90m━━━━━━━━━━━━━━━━━━━━━━━━━━━━━━━━━━━━━━━━\u001b[0m \u001b[32m42.0/42.0 kB\u001b[0m \u001b[31m1.5 MB/s\u001b[0m eta \u001b[36m0:00:00\u001b[0m\r\n",
      "\u001b[2K   \u001b[90m━━━━━━━━━━━━━━━━━━━━━━━━━━━━━━━━━━━━━━━━\u001b[0m \u001b[32m47.2/47.2 kB\u001b[0m \u001b[31m2.2 MB/s\u001b[0m eta \u001b[36m0:00:00\u001b[0m\r\n",
      "\u001b[2K   \u001b[90m━━━━━━━━━━━━━━━━━━━━━━━━━━━━━━━━━━━━━━━━\u001b[0m \u001b[32m223.6/223.6 kB\u001b[0m \u001b[31m8.4 MB/s\u001b[0m eta \u001b[36m0:00:00\u001b[0m\r\n",
      "\u001b[?25h\u001b[31mERROR: pip's dependency resolver does not currently take into account all the packages that are installed. This behaviour is the source of the following dependency conflicts.\r\n",
      "jupyterlab-lsp 3.10.2 requires jupyterlab<4.0.0a0,>=3.1.0, which is not installed.\u001b[0m\u001b[31m\r\n",
      "\u001b[0m"
     ]
    }
   ],
   "source": [
    "# Remove conflicting packages from the Kaggle base environment.\n",
    "!pip uninstall -qqy kfp jupyterlab libpysal thinc spacy fastai ydata-profiling google-cloud-bigquery google-generativeai\n",
    "# Install langgraph and the packages used in this lab.\n",
    "!pip install -qU 'google-genai==1.7.0' 'langgraph==0.3.21' 'langchain-google-genai==2.1.2' 'langgraph-prebuilt==0.1.7' 'graphviz'"
   ]
  },
  {
   "cell_type": "code",
   "execution_count": 2,
   "id": "831324ca",
   "metadata": {
    "execution": {
     "iopub.execute_input": "2025-04-17T14:44:49.891057Z",
     "iopub.status.busy": "2025-04-17T14:44:49.890715Z",
     "iopub.status.idle": "2025-04-17T14:44:52.736954Z",
     "shell.execute_reply": "2025-04-17T14:44:52.735897Z"
    },
    "papermill": {
     "duration": 2.854677,
     "end_time": "2025-04-17T14:44:52.738466",
     "exception": false,
     "start_time": "2025-04-17T14:44:49.883789",
     "status": "completed"
    },
    "tags": []
   },
   "outputs": [
    {
     "data": {
      "text/plain": [
       "'1.7.0'"
      ]
     },
     "execution_count": 2,
     "metadata": {},
     "output_type": "execute_result"
    }
   ],
   "source": [
    "#import section\n",
    "from google import genai\n",
    "from google.genai import types\n",
    "from google.api_core import retry\n",
    "from IPython.display import HTML, Markdown, display, Image\n",
    "from typing import Annotated, Literal\n",
    "from typing_extensions import TypedDict\n",
    "from langgraph.graph import StateGraph, START, END\n",
    "from langgraph.graph.message import add_messages\n",
    "from langgraph.prebuilt import ToolNode\n",
    "from langchain_google_genai import ChatGoogleGenerativeAI\n",
    "from langchain_core.messages import SystemMessage, HumanMessage, AIMessage\n",
    "from langchain_core.tools import tool\n",
    "\n",
    "\n",
    "\n",
    "import sqlite3\n",
    "import os\n",
    "import google.api_core.exceptions\n",
    "\n",
    "genai.__version__"
   ]
  },
  {
   "cell_type": "code",
   "execution_count": null,
   "id": "34c4c20f",
   "metadata": {
    "papermill": {
     "duration": 0.005757,
     "end_time": "2025-04-17T14:44:52.750040",
     "exception": false,
     "start_time": "2025-04-17T14:44:52.744283",
     "status": "completed"
    },
    "tags": []
   },
   "outputs": [],
   "source": []
  },
  {
   "cell_type": "code",
   "execution_count": 3,
   "id": "9e887be0",
   "metadata": {
    "execution": {
     "iopub.execute_input": "2025-04-17T14:44:52.763233Z",
     "iopub.status.busy": "2025-04-17T14:44:52.762658Z",
     "iopub.status.idle": "2025-04-17T14:44:53.289036Z",
     "shell.execute_reply": "2025-04-17T14:44:53.288131Z"
    },
    "papermill": {
     "duration": 0.534701,
     "end_time": "2025-04-17T14:44:53.290626",
     "exception": false,
     "start_time": "2025-04-17T14:44:52.755925",
     "status": "completed"
    },
    "tags": []
   },
   "outputs": [],
   "source": [
    "from kaggle_secrets import UserSecretsClient\n",
    "\n",
    "GOOGLE_API_KEY = UserSecretsClient().get_secret(\"GOOGLE_API_KEY\")\n",
    "client = genai.Client(api_key=GOOGLE_API_KEY)"
   ]
  },
  {
   "cell_type": "markdown",
   "id": "aad5fbdb",
   "metadata": {
    "papermill": {
     "duration": 0.006092,
     "end_time": "2025-04-17T14:44:53.302599",
     "exception": false,
     "start_time": "2025-04-17T14:44:53.296507",
     "status": "completed"
    },
    "tags": []
   },
   "source": [
    "Setting environmental variable to enable the chatobot llm capabilities"
   ]
  },
  {
   "cell_type": "code",
   "execution_count": 4,
   "id": "46fea219",
   "metadata": {
    "execution": {
     "iopub.execute_input": "2025-04-17T14:44:53.315493Z",
     "iopub.status.busy": "2025-04-17T14:44:53.315186Z",
     "iopub.status.idle": "2025-04-17T14:44:53.319894Z",
     "shell.execute_reply": "2025-04-17T14:44:53.318910Z"
    },
    "papermill": {
     "duration": 0.012731,
     "end_time": "2025-04-17T14:44:53.321242",
     "exception": false,
     "start_time": "2025-04-17T14:44:53.308511",
     "status": "completed"
    },
    "tags": []
   },
   "outputs": [],
   "source": [
    "os.environ[\"GOOGLE_API_KEY\"] = GOOGLE_API_KEY"
   ]
  },
  {
   "cell_type": "markdown",
   "id": "0fa958bc",
   "metadata": {
    "papermill": {
     "duration": 0.005663,
     "end_time": "2025-04-17T14:44:53.332592",
     "exception": false,
     "start_time": "2025-04-17T14:44:53.326929",
     "status": "completed"
    },
    "tags": []
   },
   "source": [
    "**Automated** flag:\n",
    "* Set it set to **True** if you want to automatically run the notebook\n",
    "* Set it to **False** if you want to manually enter the questions for the AI agent"
   ]
  },
  {
   "cell_type": "code",
   "execution_count": 5,
   "id": "c46ea35a",
   "metadata": {
    "execution": {
     "iopub.execute_input": "2025-04-17T14:44:53.346797Z",
     "iopub.status.busy": "2025-04-17T14:44:53.346505Z",
     "iopub.status.idle": "2025-04-17T14:44:53.350936Z",
     "shell.execute_reply": "2025-04-17T14:44:53.349894Z"
    },
    "papermill": {
     "duration": 0.013603,
     "end_time": "2025-04-17T14:44:53.352385",
     "exception": false,
     "start_time": "2025-04-17T14:44:53.338782",
     "status": "completed"
    },
    "tags": []
   },
   "outputs": [],
   "source": [
    "AUTOMATED = True"
   ]
  },
  {
   "cell_type": "code",
   "execution_count": 6,
   "id": "3d23eb95",
   "metadata": {
    "execution": {
     "iopub.execute_input": "2025-04-17T14:44:53.364905Z",
     "iopub.status.busy": "2025-04-17T14:44:53.364589Z",
     "iopub.status.idle": "2025-04-17T14:44:53.369773Z",
     "shell.execute_reply": "2025-04-17T14:44:53.368895Z"
    },
    "papermill": {
     "duration": 0.013093,
     "end_time": "2025-04-17T14:44:53.371210",
     "exception": false,
     "start_time": "2025-04-17T14:44:53.358117",
     "status": "completed"
    },
    "tags": []
   },
   "outputs": [],
   "source": [
    "# Define a retry policy. The model might make multiple consecutive calls automatically\n",
    "# for a complex query, this ensures the client retries if it hits quota limits.\n",
    "is_retriable = lambda e: (isinstance(e, genai.errors.APIError) and e.code in {429, 503})\n",
    "\n",
    "if not hasattr(genai.models.Models.generate_content, '__wrapped__'):\n",
    "  genai.models.Models.generate_content = retry.Retry(\n",
    "      predicate=is_retriable)(genai.models.Models.generate_content)"
   ]
  },
  {
   "cell_type": "markdown",
   "id": "e7b3f5da",
   "metadata": {
    "papermill": {
     "duration": 0.005345,
     "end_time": "2025-04-17T14:44:53.382221",
     "exception": false,
     "start_time": "2025-04-17T14:44:53.376876",
     "status": "completed"
    },
    "tags": []
   },
   "source": [
    "### Database definition\n",
    "Using _IPython magic commands_ to creare and populare a sqlite database"
   ]
  },
  {
   "cell_type": "code",
   "execution_count": 7,
   "id": "df5ed046",
   "metadata": {
    "execution": {
     "iopub.execute_input": "2025-04-17T14:44:53.394587Z",
     "iopub.status.busy": "2025-04-17T14:44:53.394300Z",
     "iopub.status.idle": "2025-04-17T14:44:56.340791Z",
     "shell.execute_reply": "2025-04-17T14:44:56.339913Z"
    },
    "papermill": {
     "duration": 2.954572,
     "end_time": "2025-04-17T14:44:56.342469",
     "exception": false,
     "start_time": "2025-04-17T14:44:53.387897",
     "status": "completed"
    },
    "tags": []
   },
   "outputs": [],
   "source": [
    "%load_ext sql\n",
    "%sql sqlite:///ThemePark.db"
   ]
  },
  {
   "cell_type": "markdown",
   "id": "f0d87f26",
   "metadata": {
    "papermill": {
     "duration": 0.006855,
     "end_time": "2025-04-17T14:44:56.355012",
     "exception": false,
     "start_time": "2025-04-17T14:44:56.348157",
     "status": "completed"
    },
    "tags": []
   },
   "source": [
    "Define and populare tables\n",
    "<br><br>Edit as desired to enable the llm to perform deeper analysis"
   ]
  },
  {
   "cell_type": "code",
   "execution_count": 8,
   "id": "ddbf3851",
   "metadata": {
    "execution": {
     "iopub.execute_input": "2025-04-17T14:44:56.367731Z",
     "iopub.status.busy": "2025-04-17T14:44:56.367209Z",
     "iopub.status.idle": "2025-04-17T14:44:56.500250Z",
     "shell.execute_reply": "2025-04-17T14:44:56.499331Z"
    },
    "papermill": {
     "duration": 0.140904,
     "end_time": "2025-04-17T14:44:56.501519",
     "exception": false,
     "start_time": "2025-04-17T14:44:56.360615",
     "status": "completed"
    },
    "tags": []
   },
   "outputs": [
    {
     "name": "stdout",
     "output_type": "stream",
     "text": [
      " * sqlite:///ThemePark.db\n",
      "Done.\n",
      "Done.\n",
      "Done.\n",
      "Done.\n",
      "3 rows affected.\n",
      "3 rows affected.\n",
      "3 rows affected.\n",
      "9 rows affected.\n"
     ]
    },
    {
     "data": {
      "text/plain": [
       "[]"
      ]
     },
     "execution_count": 8,
     "metadata": {},
     "output_type": "execute_result"
    }
   ],
   "source": [
    "%%sql\n",
    "-- Create the 'Land' table\n",
    "CREATE TABLE IF NOT EXISTS Land (\n",
    "  \tLandId INTEGER PRIMARY KEY AUTOINCREMENT,\n",
    "  \tLandName VARCHAR(255) NOT NULL,\n",
    "  \tLandArea DECIMAL(10, 2) NOT NULL\n",
    "  );\n",
    "\n",
    "-- Create the 'AttractionType' table\n",
    "CREATE TABLE IF NOT EXISTS AttractionType (\n",
    "  \tAttractionTypeId INTEGER PRIMARY KEY AUTOINCREMENT,\n",
    "  \tAttractionType VARCHAR(255) NOT NULL  \t\n",
    "  );\n",
    "\n",
    "-- Create the 'Attraction' table\n",
    "CREATE TABLE IF NOT EXISTS Attraction (\n",
    "  \tAttractionId INTEGER PRIMARY KEY AUTOINCREMENT,\n",
    "  \tAttraction VARCHAR(255) NOT NULL,\n",
    "  \tAttractionTypeId INTEGER NOT NULL,\n",
    "  \tLandId INTEGER NOT NULL,\n",
    "  \tFOREIGN KEY (AttractionTypeId) REFERENCES AttractionType (AttractionTypeId),\n",
    "    FOREIGN KEY (LandId) REFERENCES Land (LandId)\n",
    "  );\n",
    "\n",
    "-- Create the 'AttractionPerYear' table\n",
    "CREATE TABLE IF NOT EXISTS AttractionPerYear (\n",
    "  \tAttractionPerYearId INTEGER PRIMARY KEY AUTOINCREMENT,\n",
    "    AttractionId INTEGER,\n",
    "  \tYear INTEGER NOT NULL,\n",
    "    Revenue DECIMAL(12, 2) NOT NULL,\n",
    "  \tCosts DECIMAL(12, 2) NOT NULL,\n",
    "    Guests INTEGER NOT NULL DEFAULT 0,\n",
    "  \tIsOperational BOOLEAN NOT NULL DEFAULT 1,\n",
    "  \tFOREIGN KEY (AttractionId) REFERENCES Attraction (AttractionId)\n",
    "  );\n",
    "\n",
    "INSERT INTO Land (LandName, LandArea)\n",
    "SELECT * FROM (\n",
    "  SELECT 'Adventure' AS LandName, 12.50 AS LandArea\n",
    "  UNION ALL\n",
    "  SELECT 'Fantasy', 9.75\n",
    "  UNION ALL\n",
    "  SELECT 'Steampunk', 14.30\n",
    ") AS new_lands\n",
    "WHERE NOT EXISTS (\n",
    "  SELECT 1 FROM Land WHERE LandName = new_lands.LandName\n",
    ");\n",
    "\n",
    "-- Insert into AttractionType\n",
    "INSERT INTO AttractionType (AttractionType)\n",
    "SELECT * FROM (\n",
    "  SELECT 'Roller Coaster' AS AttractionType\n",
    "  UNION ALL\n",
    "  SELECT 'Water Ride'\n",
    "  UNION ALL\n",
    "  SELECT 'Dark Ride'\n",
    ") AS new_attraction_types\n",
    "WHERE NOT EXISTS (\n",
    "  SELECT 1 FROM AttractionType WHERE AttractionType = 'Roller Coaster'\n",
    ");\n",
    "\n",
    "-- Insert into Attraction\n",
    "INSERT INTO Attraction (Attraction, AttractionTypeId, LandId)\n",
    "SELECT * FROM (\n",
    "  SELECT 'Ghost House' AS Attraction, 3 AS AttractionTypeId, 2 AS LandId\n",
    "  UNION ALL\n",
    "  SELECT 'Splash Zone', 2, 1\n",
    "  UNION ALL\n",
    "  SELECT 'Space Voyage', 1, 3\n",
    ") AS new_attractions\n",
    "WHERE NOT EXISTS (\n",
    "  SELECT 1 FROM Attraction WHERE Attraction = 'Ghost House'\n",
    ");\n",
    "\n",
    "-- Insert into AttractionPerYear\n",
    "INSERT INTO AttractionPerYear (AttractionId, Year, Revenue, Costs, Guests, IsOperational)\n",
    "SELECT * FROM (\n",
    "  SELECT 1 AS AttractionId, 2024 AS Year, 1200000.00 AS Revenue, 450000.00 AS Costs, 250000 AS Guests, 1 AS IsOperational\n",
    "  UNION ALL\n",
    "  SELECT 2, 2024, 9800.00, 300000.00, 1800, 1\n",
    "  UNION ALL\n",
    "  SELECT 3, 2024, 750000.00, 270000.00, 120000, 1\n",
    "  UNION ALL\n",
    "  SELECT 1, 2023, 120000.00, 450000.00, 250000, 1\n",
    "  UNION ALL\n",
    "  SELECT 2, 2023, 98000.00, 300000.00, 18000, 1\n",
    "  UNION ALL\n",
    "  SELECT 3, 2023, 75000.00, 270000.00, 12000, 1\n",
    "  UNION ALL\n",
    "  SELECT 1, 2022, 12000.00, 450000.00, 25000, 1\n",
    "  UNION ALL\n",
    "  SELECT 2, 2022, 980000.00, 300000.00, 180000, 1\n",
    "  UNION ALL\n",
    "  SELECT 3, 2022, 7500.00, 270000.00, 1200, 1\n",
    ") AS new_attraction_per_year\n",
    "WHERE NOT EXISTS (\n",
    "  SELECT 1 FROM AttractionPerYear WHERE AttractionId = 1 AND Year = 2024\n",
    ");\n",
    "\n"
   ]
  },
  {
   "cell_type": "markdown",
   "id": "ab10398f",
   "metadata": {
    "papermill": {
     "duration": 0.005562,
     "end_time": "2025-04-17T14:44:56.513010",
     "exception": false,
     "start_time": "2025-04-17T14:44:56.507448",
     "status": "completed"
    },
    "tags": []
   },
   "source": [
    "**Database global variablea definition**"
   ]
  },
  {
   "cell_type": "code",
   "execution_count": 9,
   "id": "7a91ffe0",
   "metadata": {
    "execution": {
     "iopub.execute_input": "2025-04-17T14:44:56.525626Z",
     "iopub.status.busy": "2025-04-17T14:44:56.525324Z",
     "iopub.status.idle": "2025-04-17T14:44:56.530100Z",
     "shell.execute_reply": "2025-04-17T14:44:56.529222Z"
    },
    "papermill": {
     "duration": 0.012906,
     "end_time": "2025-04-17T14:44:56.531517",
     "exception": false,
     "start_time": "2025-04-17T14:44:56.518611",
     "status": "completed"
    },
    "tags": []
   },
   "outputs": [],
   "source": [
    "db_file = \"ThemePark.db\"\n",
    "db_conn = sqlite3.connect(db_file)"
   ]
  },
  {
   "cell_type": "markdown",
   "id": "ff628fe2",
   "metadata": {
    "papermill": {
     "duration": 0.005413,
     "end_time": "2025-04-17T14:44:56.542783",
     "exception": false,
     "start_time": "2025-04-17T14:44:56.537370",
     "status": "completed"
    },
    "tags": []
   },
   "source": [
    "# AI Agent\n",
    "\n",
    "Building a new LangGraph graph\n",
    "1. AnalysisState - State object, acts as the shared memory of the graph\n",
    "2. ASSISTANT_SYSINT - Define the system initial prompt, this defines the key behaviour of the chatbot\n",
    "3. Nodes - Define the nodes, functions that take the State as an input and return an updated State as an output\n",
    "4. Edges - Define the edges, they indicate the transition of the State between two nodes\n",
    "5. Conditional Edges - Conditional edges route the State between different routes dinamically\n",
    "6. Tools - Tools are functions callable by the chatbot itself"
   ]
  },
  {
   "cell_type": "code",
   "execution_count": 10,
   "id": "84ef9135",
   "metadata": {
    "execution": {
     "iopub.execute_input": "2025-04-17T14:44:56.555584Z",
     "iopub.status.busy": "2025-04-17T14:44:56.555298Z",
     "iopub.status.idle": "2025-04-17T14:44:56.561051Z",
     "shell.execute_reply": "2025-04-17T14:44:56.560226Z"
    },
    "papermill": {
     "duration": 0.014055,
     "end_time": "2025-04-17T14:44:56.562520",
     "exception": false,
     "start_time": "2025-04-17T14:44:56.548465",
     "status": "completed"
    },
    "tags": []
   },
   "outputs": [],
   "source": [
    "#create state containing message history and a boolean to flag the end of the conversation \n",
    "class AnalysisState(TypedDict):\n",
    "    \"\"\"State representing the analyst conversation with the chatbot.\"\"\"\n",
    "\n",
    "    # The chat conversation. \n",
    "    # The state is updated by appending returned messages, not replacing them.\n",
    "    messages: Annotated[list, add_messages]\n",
    "\n",
    "    # Flag indicating the chat is concluded.\n",
    "    finished: bool\n",
    "\n",
    "\n",
    "# The system instruction defines how the chatbot is expected to behave and includes rules for when to call different functions, \n",
    "# tone of the conversation and so on\n",
    "ASSISTANT_SYSINT = (\n",
    "    \"system\",\n",
    "    \"You are ThemeParkAssistan, an AI assistant helping data analysts make informed decisions based on a SQLite database from the theme park 'Legendary Galaxy'.\\n\\n\"\n",
    "    \n",
    "    \"**Your behaviour rules:**\\n\"\n",
    "    \"- NEVER assume table or field names. NEVER guess them based on intuition.\\n\"\n",
    "    \"- You MUST use `list_tables()` before referencing any table in a query.\\n\"\n",
    "    \"- Before using any field or column, use `describe_table()` to learn about that table's schema.\\n\"\n",
    "    \"- NEVER mention or ask the user about table names, columns, or SQL directly. If something is missing, troubleshoot using the tools.\\n\"\n",
    "    \"- If you cannot find a table or column, explain what you tried and stop. DO NOT ask the user about it.\\n\"\n",
    "    \"- Think step by step: first list the tables, then explore a table's structure, then run a query if needed.\\n\"\n",
    "    \"- You can also access the web through the 'search_web()' tool when the answer is not available from the database or your own knowledge.\\n\"\n",
    "    \"- **If you're not confident in your own knowledge or the database does not provide sufficient information, search the web immediately**.\\n\"\n",
    "    \"- Web search should be the **first** option if you suspect the information is outside of the database or your training knowledge, **not just a last resort**.\\n\"\n",
    "    \"- If you use the web, **be sure to clarify that the answer came from an online search** and provide a source if possible.\\n\"\n",
    "    \"- When asked about time periods (yesterday, last year, and so on) always go search the web to know what time are they refferring to.\\n\"\n",
    "    \"- Your job is to answer the user's business question clearly and then suggest a useful follow-up.\\n\"\n",
    "    \"- Don't write 'A useful follow-up would be to'—be more subtle in suggesting follow-ups.\"\n",
    ")\n",
    "\n",
    "WELCOME_MSG = \"Welcome from ThemeParkAssistan. Type `quit` to quit. How may I help you?\""
   ]
  },
  {
   "cell_type": "markdown",
   "id": "c0a98996",
   "metadata": {
    "papermill": {
     "duration": 0.005708,
     "end_time": "2025-04-17T14:44:56.574305",
     "exception": false,
     "start_time": "2025-04-17T14:44:56.568597",
     "status": "completed"
    },
    "tags": []
   },
   "source": [
    "## Tools"
   ]
  },
  {
   "cell_type": "markdown",
   "id": "162d130a",
   "metadata": {
    "papermill": {
     "duration": 0.005596,
     "end_time": "2025-04-17T14:44:56.586093",
     "exception": false,
     "start_time": "2025-04-17T14:44:56.580497",
     "status": "completed"
    },
    "tags": []
   },
   "source": [
    "### Tools for DB access"
   ]
  },
  {
   "cell_type": "code",
   "execution_count": 11,
   "id": "6879bc97",
   "metadata": {
    "execution": {
     "iopub.execute_input": "2025-04-17T14:44:56.598764Z",
     "iopub.status.busy": "2025-04-17T14:44:56.598496Z",
     "iopub.status.idle": "2025-04-17T14:44:56.616168Z",
     "shell.execute_reply": "2025-04-17T14:44:56.615317Z"
    },
    "papermill": {
     "duration": 0.025867,
     "end_time": "2025-04-17T14:44:56.617745",
     "exception": false,
     "start_time": "2025-04-17T14:44:56.591878",
     "status": "completed"
    },
    "tags": []
   },
   "outputs": [],
   "source": [
    "@tool\n",
    "def query_db(query: str) -> list[list[str]]:\n",
    "    \"\"\"Run a sqlite query and reuturn the results\"\"\"\n",
    "    conn = sqlite3.connect(db_file)\n",
    "    cursor = conn.cursor()\n",
    "    try:\n",
    "        cursor.execute(query)\n",
    "        result = cursor.fetchall()\n",
    "    except Exception as e:\n",
    "        result = f\"Error: {e}\"\n",
    "    finally:\n",
    "        conn.close()\n",
    "        \n",
    "    return result\n",
    "\n",
    "@tool\n",
    "def list_tables() -> list[str]:\n",
    "    \"\"\"Retrieve the names of all tables in the database.\"\"\"\n",
    "    conn = sqlite3.connect(db_file)\n",
    "    cursor = conn.cursor()\n",
    "    try:\n",
    "        cursor.execute(\"SELECT name FROM sqlite_master WHERE type='table';\")\n",
    "        tables = cursor.fetchall()\n",
    "        result = [row[0] for row in tables]\n",
    "    except Exception as e:\n",
    "        result = f\"Error: {e}\"\n",
    "    finally:\n",
    "        conn.close()\n",
    "        \n",
    "    return result\n",
    "\n",
    "@tool\n",
    "def describe_table(table_name: str) -> list[tuple[str, str]]:\n",
    "    \"\"\"Look up the table schema.\n",
    "    Returns:\n",
    "      List of columns, where each entry is a tuple of (column, type).\n",
    "    \"\"\"\n",
    "    conn = sqlite3.connect(db_file)\n",
    "    cursor = conn.cursor()\n",
    "    try:\n",
    "        cursor.execute(f\"PRAGMA table_info({table_name});\")\n",
    "        schema = cursor.fetchall()\n",
    "        result = [(col[1], col[2]) for col in schema]\n",
    "    except Exception as e:\n",
    "        result = f\"Error: {e}\"\n",
    "    finally:\n",
    "        conn.close()\n",
    "        \n",
    "    return result"
   ]
  },
  {
   "cell_type": "markdown",
   "id": "e32647b0",
   "metadata": {
    "papermill": {
     "duration": 0.005705,
     "end_time": "2025-04-17T14:44:56.629511",
     "exception": false,
     "start_time": "2025-04-17T14:44:56.623806",
     "status": "completed"
    },
    "tags": []
   },
   "source": [
    "### Tools for web access"
   ]
  },
  {
   "cell_type": "code",
   "execution_count": 12,
   "id": "3569b8e2",
   "metadata": {
    "execution": {
     "iopub.execute_input": "2025-04-17T14:44:56.642294Z",
     "iopub.status.busy": "2025-04-17T14:44:56.642019Z",
     "iopub.status.idle": "2025-04-17T14:44:56.651187Z",
     "shell.execute_reply": "2025-04-17T14:44:56.650275Z"
    },
    "papermill": {
     "duration": 0.017345,
     "end_time": "2025-04-17T14:44:56.652696",
     "exception": false,
     "start_time": "2025-04-17T14:44:56.635351",
     "status": "completed"
    },
    "tags": []
   },
   "outputs": [],
   "source": [
    "# Create the Gemini model with web search grounding\n",
    "search_tool = types.Tool(google_search=types.GoogleSearch())\n",
    "config_with_search = types.GenerateContentConfig(tools=[search_tool])\n",
    "\n",
    "@tool\n",
    "def search_web(query: str) -> str:\n",
    "    \"\"\"Use Gemini's grounded web search to retrieve current information for a query.\"\"\"\n",
    "    try:\n",
    "        response = client.models.generate_content(\n",
    "            model='gemini-2.0-flash',\n",
    "            contents=query,\n",
    "            config=config_with_search,\n",
    "        )\n",
    "        # Extract and return the textual answer\n",
    "        result_text = response.text.strip()\n",
    "        if not result_text:\n",
    "            return \"I searched the web but couldn't find a clear answer to that.\"\n",
    "        return result_text\n",
    "\n",
    "    except google.api_core.exceptions.GoogleAPIError as e:\n",
    "        return f\"Web search failed due to a network or API error: {e}\"\n",
    "\n",
    "    except Exception as e:\n",
    "        return f\"An unexpected error occurred during web search: {e}\""
   ]
  },
  {
   "cell_type": "markdown",
   "id": "725c84a4",
   "metadata": {
    "papermill": {
     "duration": 0.005468,
     "end_time": "2025-04-17T14:44:56.664172",
     "exception": false,
     "start_time": "2025-04-17T14:44:56.658704",
     "status": "completed"
    },
    "tags": []
   },
   "source": [
    "Define llm, associate tools (db tools and web tools), create node functions and conditional edges"
   ]
  },
  {
   "cell_type": "code",
   "execution_count": 13,
   "id": "8d578da7",
   "metadata": {
    "execution": {
     "iopub.execute_input": "2025-04-17T14:44:56.676796Z",
     "iopub.status.busy": "2025-04-17T14:44:56.676510Z",
     "iopub.status.idle": "2025-04-17T14:44:56.796097Z",
     "shell.execute_reply": "2025-04-17T14:44:56.795105Z"
    },
    "papermill": {
     "duration": 0.12783,
     "end_time": "2025-04-17T14:44:56.797724",
     "exception": false,
     "start_time": "2025-04-17T14:44:56.669894",
     "status": "completed"
    },
    "tags": []
   },
   "outputs": [],
   "source": [
    "#define the node tools to associate to the llm\n",
    "tools = [query_db, list_tables, describe_table]\n",
    "tool_node = ToolNode(tools)\n",
    "\n",
    "web_tools = [search_web]\n",
    "web_tool_node = ToolNode(web_tools)\n",
    "\n",
    "#select the model for the chatbot\n",
    "llm = ChatGoogleGenerativeAI(model=\"gemini-2.0-flash\")\n",
    "llm_w_tools = llm.bind_tools(tools + web_tools)"
   ]
  },
  {
   "cell_type": "markdown",
   "id": "3a4f4438",
   "metadata": {
    "papermill": {
     "duration": 0.005694,
     "end_time": "2025-04-17T14:44:56.809284",
     "exception": false,
     "start_time": "2025-04-17T14:44:56.803590",
     "status": "completed"
    },
    "tags": []
   },
   "source": [
    "## Node Definition\n",
    "\n",
    "To enable automated run on kaggle two different human nodes have been created:\n",
    "* **manual_human_node** - allows direct interaction between chatgpt and user\n",
    "* **automated_human_node** - simulates the chatbot - user interaction with predefined questions"
   ]
  },
  {
   "cell_type": "code",
   "execution_count": 14,
   "id": "aa64f86f",
   "metadata": {
    "execution": {
     "iopub.execute_input": "2025-04-17T14:44:56.822121Z",
     "iopub.status.busy": "2025-04-17T14:44:56.821761Z",
     "iopub.status.idle": "2025-04-17T14:44:56.831950Z",
     "shell.execute_reply": "2025-04-17T14:44:56.831149Z"
    },
    "papermill": {
     "duration": 0.018301,
     "end_time": "2025-04-17T14:44:56.833423",
     "exception": false,
     "start_time": "2025-04-17T14:44:56.815122",
     "status": "completed"
    },
    "tags": []
   },
   "outputs": [],
   "source": [
    "automated_inputs = iter([\n",
    "    \"What was the most popular attraction by number of guests in our park last?\",\n",
    "    \"Make a numbered list of all our attractions by profit last year\",\n",
    "    \"Make a numbered Top 10 list of the most popular brands last year (brands must be movies, video games and books)\",\n",
    "    \"quit\"\n",
    "])\n",
    "\n",
    "#create nodes\n",
    "def manual_human_node(state: AnalysisState) -> AnalysisState:\n",
    "    msg = state[\"messages\"][-1]\n",
    "    if msg.content != WELCOME_MSG:\n",
    "        msg.content = \"<br>\" + msg.content\n",
    "        \n",
    "    display(Markdown(msg.content))\n",
    "\n",
    "    user_input = input(\"> \")\n",
    "\n",
    "    if user_input in {\"q\", \"quit\", \"exit\"}:\n",
    "        state[\"finished\"] = True\n",
    "\n",
    "    return state | {\"messages\": [(\"user\", user_input)]}\n",
    "\n",
    "def automated_human_node(state):\n",
    "    msg = state[\"messages\"][-1]\n",
    "    if msg.content != WELCOME_MSG:\n",
    "        msg.content = \"<br>\" + msg.content\n",
    "        \n",
    "    display(Markdown(msg.content))\n",
    "    \n",
    "    try:\n",
    "        user_input = next(automated_inputs)\n",
    "        print(f\"[AUTOMATED INPUT] {user_input}\")\n",
    "    except StopIteration:\n",
    "        user_input = \"quit\"\n",
    "        state[\"finished\"] = True\n",
    "    return state | {\"messages\": [(\"user\", user_input)]}\n",
    "\n",
    "def chatbot_w_tools(state: AnalysisState) -> AnalysisState:\n",
    "    \"\"\"chatbot node with added tool functionalities\"\"\"\n",
    "    #defaults = {finished: False}\n",
    "\n",
    "    if state[\"messages\"]:\n",
    "        output = llm_w_tools.invoke([ASSISTANT_SYSINT] + state[\"messages\"])\n",
    "    else:\n",
    "        output = AIMessage(content=WELCOME_MSG)\n",
    "\n",
    "    return state | {\"messages\": [output]}\n",
    "\n",
    "#create conditional edge\n",
    "def evaluate_exit(state: AnalysisState) -> Literal[\"chatbot\", \"__end__\"]:\n",
    "    if state.get(\"finished\", False):\n",
    "        return END\n",
    "    else:\n",
    "        return \"chatbot\"\n",
    "    \n",
    "def evaluate_tool_use(state: AnalysisState) -> Literal[\"tools\", \"web\", \"human\"]:\n",
    "    \"\"\"if the llm choose to call a tool function go to tool node, otherwise back to human node\"\"\"\n",
    "    if not (msgs := state.get(\"messages\", [])):\n",
    "        raise ValueError(f\"No messages found when parsing state: {state}\")\n",
    "\n",
    "    msg = msgs[-1]\n",
    "\n",
    "    if hasattr(msg, \"tool_calls\") and len(msg.tool_calls) > 0:\n",
    "        tool_name = msg.tool_calls[0][\"name\"]\n",
    "        if tool_name == \"search_web\":\n",
    "            return \"web\"\n",
    "        else:\n",
    "            return \"tools\"\n",
    "    else:\n",
    "        return \"human\"\n"
   ]
  },
  {
   "cell_type": "markdown",
   "id": "83fdb43f",
   "metadata": {
    "papermill": {
     "duration": 0.005741,
     "end_time": "2025-04-17T14:44:56.845189",
     "exception": false,
     "start_time": "2025-04-17T14:44:56.839448",
     "status": "completed"
    },
    "tags": []
   },
   "source": [
    "__Build the graph__ based on State, Nodes, Edges and ConditionalEdges created"
   ]
  },
  {
   "cell_type": "code",
   "execution_count": 15,
   "id": "971f70b4",
   "metadata": {
    "execution": {
     "iopub.execute_input": "2025-04-17T14:44:56.858101Z",
     "iopub.status.busy": "2025-04-17T14:44:56.857734Z",
     "iopub.status.idle": "2025-04-17T14:44:56.869861Z",
     "shell.execute_reply": "2025-04-17T14:44:56.869011Z"
    },
    "papermill": {
     "duration": 0.020473,
     "end_time": "2025-04-17T14:44:56.871528",
     "exception": false,
     "start_time": "2025-04-17T14:44:56.851055",
     "status": "completed"
    },
    "tags": []
   },
   "outputs": [],
   "source": [
    "#Build graph\n",
    "graph_builder = StateGraph(AnalysisState)\n",
    "\n",
    "#create nodes and link them to their function\n",
    "graph_builder.add_node(\"chatbot\", chatbot_w_tools)\n",
    "#graph_builder.add_node(\"human\", human_node)\n",
    "graph_builder.add_node(\"human\", manual_human_node if not AUTOMATED else automated_human_node)\n",
    "graph_builder.add_node(\"tools\", tool_node)\n",
    "graph_builder.add_node(\"web\", web_tool_node)\n",
    "\n",
    "#add conditional edges to chatbot and human nodes\n",
    "graph_builder.add_conditional_edges(\"chatbot\", evaluate_tool_use)\n",
    "graph_builder.add_conditional_edges(\"human\", evaluate_exit)\n",
    "\n",
    "#add fixed edges to nodes\n",
    "graph_builder.add_edge(\"tools\", \"chatbot\")\n",
    "graph_builder.add_edge(\"web\", \"chatbot\")\n",
    "graph_builder.add_edge(START, \"chatbot\")\n",
    "\n",
    "graph_w_tools = graph_builder.compile()"
   ]
  },
  {
   "cell_type": "markdown",
   "id": "b834773c",
   "metadata": {
    "papermill": {
     "duration": 0.005557,
     "end_time": "2025-04-17T14:44:56.883154",
     "exception": false,
     "start_time": "2025-04-17T14:44:56.877597",
     "status": "completed"
    },
    "tags": []
   },
   "source": [
    "# AI Agent Interaction"
   ]
  },
  {
   "cell_type": "code",
   "execution_count": 16,
   "id": "21ec7948",
   "metadata": {
    "execution": {
     "iopub.execute_input": "2025-04-17T14:44:56.895721Z",
     "iopub.status.busy": "2025-04-17T14:44:56.895459Z",
     "iopub.status.idle": "2025-04-17T14:45:12.403270Z",
     "shell.execute_reply": "2025-04-17T14:45:12.402351Z"
    },
    "papermill": {
     "duration": 15.515878,
     "end_time": "2025-04-17T14:45:12.404740",
     "exception": false,
     "start_time": "2025-04-17T14:44:56.888862",
     "status": "completed"
    },
    "tags": []
   },
   "outputs": [
    {
     "data": {
      "text/markdown": [
       "Welcome from ThemeParkAssistan. Type `quit` to quit. How may I help you?"
      ],
      "text/plain": [
       "<IPython.core.display.Markdown object>"
      ]
     },
     "metadata": {},
     "output_type": "display_data"
    },
    {
     "name": "stdout",
     "output_type": "stream",
     "text": [
      "[AUTOMATED INPUT] What was the most popular attraction by number of guests in our park last?\n"
     ]
    },
    {
     "data": {
      "text/markdown": [
       "<br>The most popular attraction in 2024 was Ghost House, with 250000 guests. You might also want to compare the revenue generated by different attractions."
      ],
      "text/plain": [
       "<IPython.core.display.Markdown object>"
      ]
     },
     "metadata": {},
     "output_type": "display_data"
    },
    {
     "name": "stdout",
     "output_type": "stream",
     "text": [
      "[AUTOMATED INPUT] Make a numbered list of all our attractions by profit last year\n"
     ]
    },
    {
     "data": {
      "text/markdown": [
       "<br>Here are the attractions by profit in 2024:\n",
       "\n",
       "1.  Ghost House: 750000\n",
       "2.  Space Voyage: 480000\n",
       "3.  Splash Zone: -290200\n",
       "\n",
       "A comparison of profits across multiple years could be insightful."
      ],
      "text/plain": [
       "<IPython.core.display.Markdown object>"
      ]
     },
     "metadata": {},
     "output_type": "display_data"
    },
    {
     "name": "stdout",
     "output_type": "stream",
     "text": [
      "[AUTOMATED INPUT] Make a numbered Top 10 list of the most popular brands last year (brands must be movies, video games and books)\n"
     ]
    },
    {
     "data": {
      "text/markdown": [
       "<br>Here's a list of the top 10 most popular movies, video games, and books of 2024 based on web searches:\n",
       "\n",
       "**Top 10 Movies of 2024 (Worldwide Box Office)**\n",
       "\n",
       "1.  Inside Out 2 - $1.7 billion\n",
       "2.  Deadpool & Wolverine - $1.338 billion\n",
       "3.  Moana 2 - $1.059 billion\n",
       "4.  Despicable Me 4 - $969.16 million\n",
       "5.  Wicked - $751.73 million\n",
       "6.  Mufasa: The Lion King - $687 million\n",
       "7.  Godzilla x Kong: The New Empire - $572 million\n",
       "8.  Dune: Part Two - $282.14 million\n",
       "9.  Beetlejuice Beetlejuice - $294.1 million\n",
       "10. Twisters - $267.76 million\n",
       "\n",
       "**Top 10 Video Games of 2024**\n",
       "\n",
       "1.  Astro Bot\n",
       "2.  Elden Ring: Shadow of the Erdtree\n",
       "3.  Dragon's Dogma 2\n",
       "4.  Helldivers 2\n",
       "5.  Alan Wake 2\n",
       "6.  Star Wars Outlaws\n",
       "7.  Black Myth: Wukong\n",
       "8.  Persona 3: Reload\n",
       "9.  Batman: Arkham Shadow\n",
       "10. Diablo 4: Vessel of Hatred\n",
       "\n",
       "**Top 10 Books of 2024 (Bestselling)**\n",
       "\n",
       "1.  The Women by Kristin Hannah\n",
       "2.  A Court of Thorns and Roses by Sarah J. Maas\n",
       "3.  The Scarlet Shedder (Dog Man #12) by Dav Pilkey\n",
       "4.  The Housemaid by Freida McFadden\n",
       "5.  Atomic Habits by James Clear\n",
       "6.  It Ends with Us by Colleen Hoover\n",
       "7.  Iron Flame by Rebecca Yarros\n",
       "8.  Fourth Wing by Rebecca Yarros\n",
       "9.  A Court of Mist and Fury by Sarah J. Maas\n",
       "10. It Starts with Us by Colleen Hoover\n",
       "\n",
       "This information is based on web searches. Perhaps you'd like to explore which of these brands are represented in our park?"
      ],
      "text/plain": [
       "<IPython.core.display.Markdown object>"
      ]
     },
     "metadata": {},
     "output_type": "display_data"
    },
    {
     "name": "stdout",
     "output_type": "stream",
     "text": [
      "[AUTOMATED INPUT] quit\n"
     ]
    },
    {
     "data": {
      "text/markdown": [
       "<br>Thank you for using ThemeParkAssistan. Have a great day!"
      ],
      "text/plain": [
       "<IPython.core.display.Markdown object>"
      ]
     },
     "metadata": {},
     "output_type": "display_data"
    }
   ],
   "source": [
    "#set custom recursion limit to traverse nodes\n",
    "config = {\"recursion_limit\": 50}\n",
    "\n",
    "#run the chatbot\n",
    "state = graph_w_tools.invoke({\"messages\": []}, config)"
   ]
  }
 ],
 "metadata": {
  "kaggle": {
   "accelerator": "none",
   "dataSources": [],
   "dockerImageVersionId": 31012,
   "isGpuEnabled": false,
   "isInternetEnabled": true,
   "language": "python",
   "sourceType": "notebook"
  },
  "kernelspec": {
   "display_name": "Python 3",
   "language": "python",
   "name": "python3"
  },
  "language_info": {
   "codemirror_mode": {
    "name": "ipython",
    "version": 3
   },
   "file_extension": ".py",
   "mimetype": "text/x-python",
   "name": "python",
   "nbconvert_exporter": "python",
   "pygments_lexer": "ipython3",
   "version": "3.11.11"
  },
  "papermill": {
   "default_parameters": {},
   "duration": 69.038568,
   "end_time": "2025-04-17T14:45:13.533109",
   "environment_variables": {},
   "exception": null,
   "input_path": "__notebook__.ipynb",
   "output_path": "__notebook__.ipynb",
   "parameters": {},
   "start_time": "2025-04-17T14:44:04.494541",
   "version": "2.6.0"
  }
 },
 "nbformat": 4,
 "nbformat_minor": 5
}
